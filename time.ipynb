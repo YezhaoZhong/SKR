{
 "cells": [
  {
   "cell_type": "code",
   "execution_count": 1,
   "metadata": {},
   "outputs": [],
   "source": [
    "from itertools import product\n",
    "import numpy as np\n",
    "import pandas as pd\n",
    "from ADRprofilePrediction import Pairs2Mat, evaluation\n",
    "from Models import loadHyperpar\n",
    "import seaborn as sns \n",
    "import matplotlib.pylab as plt\n",
    "from matplotlib.ticker import MultipleLocator\n",
    "import matplotlib.patheffects as path_effects\n",
    "import json\n",
    "import pingouin as pg"
   ]
  },
  {
   "cell_type": "code",
   "execution_count": 2,
   "metadata": {},
   "outputs": [
    {
     "name": "stdout",
     "output_type": "stream",
     "text": [
      "0.24.2\n"
     ]
    }
   ],
   "source": [
    "import sklearn\n",
    "print(sklearn.__version__)"
   ]
  },
  {
   "cell_type": "code",
   "execution_count": 3,
   "metadata": {},
   "outputs": [],
   "source": [
    "features_dict = {\n",
    "    \"target\":Pairs2Mat(path=\"data/drug_target.tsv\",colname1=\"0\",colname2=\"1\"),\n",
    "    \"enzyme\":Pairs2Mat(path=\"data/drug_enzyme.tsv\",colname1=\"0\",colname2=\"1\"),\n",
    "    \"Chem\":pd.read_csv(\"data/drug_chemsfp.tsv\",sep = \"\\t\",header=0,index_col=0),\n",
    "    \"DGI\":Pairs2Mat(path=\"data/interactions.tsv\",colname1=\"drug_claim_name\",colname2=\"gene_name\"),\n",
    "    \"transporter\":Pairs2Mat(path=\"data/drug_transporter.tsv\",colname1=\"0\",colname2=\"1\"),\n",
    "    \"pathway\":Pairs2Mat(path=\"data/drug_pathway.tsv\",colname1=\"0\",colname2=\"1\"),\n",
    "    \"indication\":Pairs2Mat(path=\"data/drug_indication.tsv\",colname1=\"1_x\",colname2=\"6\")\n",
    "}\n"
   ]
  },
  {
   "cell_type": "code",
   "execution_count": 4,
   "metadata": {},
   "outputs": [],
   "source": [
    "filter = \"all\"\n",
    "SEs = {}\n",
    "if filter == \"all\":\n",
    "    SIDER = Pairs2Mat(path=\"data/drug_se.tsv\",colname1=\"1_x\",colname2=\"5\")\n",
    "    column_sums = np.sum(SIDER, axis=0)\n",
    "    SEs[\"SIDER\"] = SIDER.loc[:, (column_sums >= 5)]\n",
    "\n",
    "    # OFFSIDERS = Pairs2Mat(path=\"data/OFFSIDES.csv\",colname1=\"drug_concept_name\",colname2=\"condition_concept_name\",sep = \",\")\n",
    "    # column_sums = np.sum(OFFSIDERS, axis=0)\n",
    "    # SEs[\"OFFSIDES\"] = OFFSIDERS.loc[:, column_sums >= 5]\n",
    "elif filter == \"rare\":\n",
    "    SIDER = Pairs2Mat(path=\"data/drug_se.tsv\",colname1=\"1_x\",colname2=\"5\")\n",
    "    column_sums = np.sum(SIDER, axis=0)\n",
    "    SEs[\"SIDER\"] = SIDER.loc[:, (column_sums < 50)]\n",
    "\n",
    "    # OFFSIDERS = Pairs2Mat(path=\"data/OFFSIDES.csv\",colname1=\"drug_concept_name\",colname2=\"condition_concept_name\",sep = \",\")\n",
    "    # column_sums = np.sum(OFFSIDERS, axis=0)\n",
    "    # SEs[\"OFFSIDES\"] = OFFSIDERS.loc[:, column_sums < 50]\n"
   ]
  },
  {
   "cell_type": "code",
   "execution_count": 5,
   "metadata": {},
   "outputs": [],
   "source": [
    "features_names = [\"target\", \"enzyme\", \"Chem\", \"DGI\", \"transporter\", \"pathway\", \"indication\"]\n",
    "# SEs_names = [\"SIDER\", \"OFFSIDES\"]\n",
    "# methods = [\"SKR\", \"KR\", \"KRR\", \"Naive\", \"LNSM_RLN\", \"LNSM_jaccard\", \"VKR\"]\n",
    "methods = [\"SKR\", \"KRR\", \"VKR\", \"Naive\", \"LNSM_RLN\", \"LNSM_jaccard\"]\n",
    "# methods = [\"SKR\", \"KR\", \"KRR\", \"Naive\", \"LNSM_RLN\", \"LNSM_jaccard\", \"VKR\", \"SVM\", \"OCCA\", \"SCCA\", \"RF\", \"BRF\"]\n",
    "tuning_metrices=[\"AUROC\", \"AUPR\", \"AUROCperdrug\", \"AUPRperdrug\"]\n",
    "metrice_names = [\"AUPR+AUROC\", \"AUPR+AUROCperdrug\", \"AUROC\", \"AUPR\", \"AUROCperdrug\", \"AUPRperdrug\"]"
   ]
  },
  {
   "cell_type": "code",
   "execution_count": 21,
   "metadata": {},
   "outputs": [],
   "source": [
    "A = 10**np.arange(-2, 3, 1, dtype=float)\n",
    "B = np.arange(0.1, 1, 0.1, dtype=float)\n",
    "C = np.arange(5, 20, 5, dtype=int)\n",
    "A10 = 10**np.arange(1, 2, 1, dtype=float)\n",
    "A100 = 10**np.arange(2, 3, 1, dtype=float)\n",
    "all_hyperparlist = {\n",
    "    \"SKR\":[A,B,A10,A100], \n",
    "    # \"KR\":[A,A], \n",
    "    \"KRR\":[A,A],\n",
    "    \"VKR\":[A,A,C], \n",
    "    \"Naive\":[], \n",
    "    \"LNSM_RLN\":[B,A], \n",
    "    \"LNSM_jaccard\":[B], \n",
    "    \"SVM\":[A,A], \n",
    "    # \"OCCA\":[], \n",
    "    # \"SCCA\":[A], \n",
    "    \"RF\":[C], \n",
    "    \"BRF\":[C]\n",
    "}"
   ]
  },
  {
   "cell_type": "code",
   "execution_count": 7,
   "metadata": {},
   "outputs": [],
   "source": [
    "SEs_name = \"SIDER\"\n",
    "metrice = \"AUPR\""
   ]
  },
  {
   "cell_type": "code",
   "execution_count": 8,
   "metadata": {},
   "outputs": [],
   "source": [
    "hyperpars = {}\n",
    "hyperpars[\"nested_cv\"] = {}\n",
    "hyperpars[\"cv\"] = {}\n",
    "hyperparsOut = {}\n",
    "hyperparsOut[\"nested_cv\"] = {}\n",
    "hyperparsOut[\"cv\"] = {}\n",
    "results = {}\n",
    "results[\"nested_cv\"] = {}\n",
    "results[\"cv\"] = {}"
   ]
  },
  {
   "cell_type": "code",
   "execution_count": 22,
   "metadata": {},
   "outputs": [],
   "source": [
    "hyperpars[\"cv\"][\"SKR\"] = {}\n",
    "hyperpars[\"cv\"][\"SKR\"][\"pathway\"] =(100, 0.9, 10, 100)\n",
    "hyperpars[\"cv\"][\"KRR\"] = {}\n",
    "hyperpars[\"cv\"][\"KRR\"][\"pathway\"] = (100, 100)\n",
    "hyperpars[\"cv\"][\"VKR\"] = {}\n",
    "hyperpars[\"cv\"][\"VKR\"][\"pathway\"] = (100, 100, 15)\n",
    "hyperpars[\"cv\"][\"SVM\"] = {}\n",
    "hyperpars[\"cv\"][\"SVM\"][\"pathway\"] = (10, 10)\n",
    "hyperpars[\"cv\"][\"RF\"] = {}\n",
    "hyperpars[\"cv\"][\"RF\"][\"pathway\"] = (15,)\n",
    "hyperpars[\"cv\"][\"BRF\"] = {}\n",
    "hyperpars[\"cv\"][\"BRF\"][\"pathway\"] = (15,)"
   ]
  },
  {
   "cell_type": "code",
   "execution_count": 10,
   "metadata": {},
   "outputs": [],
   "source": [
    "import time"
   ]
  },
  {
   "cell_type": "code",
   "execution_count": 11,
   "metadata": {},
   "outputs": [
    {
     "name": "stdout",
     "output_type": "stream",
     "text": [
      "using feature pathway\n",
      "The SKR requires hyperparameter lambda, c, sigma_X, sigma_Y\n",
      "---------- cv start ----------\n",
      "--- tuning end ---\n",
      "target size: 180\n",
      "------ best hyper pars:  (100, 0.9, 10, 100) ------\n",
      "SKR starts:\n",
      "SKR ends:\n",
      "-----------\n",
      "AUPRperdrug: 0.45871664748046503\n",
      "AUROCperdrug: 0.8856320744088235\n",
      "AUPR+AUROCperdrug: 1.3443487218892884\n",
      "AUPR: 0.39886504381546584\n",
      "AUROC: 0.8583742465579316\n",
      "AUPR+AUROC: 1.2572392903733975\n",
      "-----------\n",
      "run time:  2.7299623489379883\n"
     ]
    }
   ],
   "source": [
    "method = \"SKR\"\n",
    "validation = \"cv\"\n",
    "hyperparsOut[validation][method] = {}\n",
    "results[validation][method] = {}\n",
    "str = \"pathway\"\n",
    "print(f\"using feature {str}\")\n",
    "hyperparList = loadHyperpar(*all_hyperparlist[method],method_option=method)\n",
    "t1 = time.time()\n",
    "results[validation][method][str], hyperparsOut[validation][method][str] = evaluation(Y=SEs[\"SIDER\"], X=features_dict[str], method_option=method,tuning_metrice=metrice,hyperparList=hyperparList,hyperparfixed=hyperpars[validation][method][str],Validation=validation,n_jobs=1)\n",
    "t2 = time.time()\n",
    "print(\"run time: \", t2 - t1)"
   ]
  },
  {
   "cell_type": "code",
   "execution_count": 23,
   "metadata": {},
   "outputs": [
    {
     "name": "stdout",
     "output_type": "stream",
     "text": [
      "using feature pathway\n",
      "The VKR requires hyperparameter lambda, sigma_X, k\n",
      "---------- cv start ----------\n",
      "--- tuning end ---\n",
      "target size: 180\n",
      "------ best hyper pars:  (100, 100, 15) ------\n",
      "VKR starts:\n",
      "VKR ends:\n",
      "-----------\n",
      "AUPRperdrug: 0.4588762327062619\n",
      "AUROCperdrug: 0.8844320863388482\n",
      "AUPR+AUROCperdrug: 1.34330831904511\n",
      "AUPR: 0.3991979958326599\n",
      "AUROC: 0.8581389517046799\n",
      "AUPR+AUROC: 1.2573369475373397\n",
      "-----------\n",
      "run time:  6.085549831390381\n"
     ]
    }
   ],
   "source": [
    "method = \"VKR\"\n",
    "validation = \"cv\"\n",
    "hyperparsOut[validation][method] = {}\n",
    "results[validation][method] = {}\n",
    "str = \"pathway\"\n",
    "print(f\"using feature {str}\")\n",
    "hyperparList = loadHyperpar(*all_hyperparlist[method],method_option=method)\n",
    "t1 = time.time()\n",
    "results[validation][method][str], hyperparsOut[validation][method][str] = evaluation(Y=SEs[\"SIDER\"], X=features_dict[str], method_option=method,tuning_metrice=metrice,hyperparList=hyperparList,hyperparfixed=hyperpars[validation][method][str],Validation=validation,n_jobs=1)\n",
    "t2 = time.time()\n",
    "print(\"run time: \", t2 - t1)"
   ]
  },
  {
   "cell_type": "code",
   "execution_count": 12,
   "metadata": {},
   "outputs": [
    {
     "name": "stdout",
     "output_type": "stream",
     "text": [
      "using feature pathway\n",
      "The KRR requires hyperparameter lambda, sigma_X\n",
      "---------- cv start ----------\n",
      "--- tuning end ---\n",
      "target size: 180\n",
      "------ best hyper pars:  (100, 100) ------\n",
      "KRR starts:\n",
      "KRR ends:\n",
      "-----------\n",
      "AUPRperdrug: 0.4586145494614498\n",
      "AUROCperdrug: 0.8851348674276223\n",
      "AUPR+AUROCperdrug: 1.343749416889072\n",
      "AUPR: 0.39914209124262745\n",
      "AUROC: 0.8583574574129526\n",
      "AUPR+AUROC: 1.25749954865558\n",
      "-----------\n",
      "run time:  1.923788070678711\n"
     ]
    }
   ],
   "source": [
    "method = \"KRR\"\n",
    "validation = \"cv\"\n",
    "hyperparsOut[validation][method] = {}\n",
    "results[validation][method] = {}\n",
    "str = \"pathway\"\n",
    "print(f\"using feature {str}\")\n",
    "hyperparList = loadHyperpar(*all_hyperparlist[method],method_option=method)\n",
    "t1 = time.time()\n",
    "results[validation][method][str], hyperparsOut[validation][method][str] = evaluation(Y=SEs[\"SIDER\"], X=features_dict[str], method_option=method,tuning_metrice=metrice,hyperparList=hyperparList,hyperparfixed=hyperpars[validation][method][str],Validation=validation,n_jobs=1)\n",
    "t2 = time.time()\n",
    "print(\"run time: \", t2 - t1)"
   ]
  },
  {
   "cell_type": "code",
   "execution_count": 17,
   "metadata": {},
   "outputs": [
    {
     "name": "stdout",
     "output_type": "stream",
     "text": [
      "using feature pathway\n",
      "The SVM requires hyperparameter c, gamma\n",
      "---------- cv start ----------\n",
      "--- tuning end ---\n",
      "target size: 180\n",
      "------ best hyper pars:  (10, 10) ------\n",
      "SVM starts:\n",
      "SVM ends:\n",
      "-----------\n",
      "AUPRperdrug: 0.4515203938299791\n",
      "AUROCperdrug: 0.8780329215278591\n",
      "AUPR+AUROCperdrug: 1.3295533153578383\n",
      "AUPR: 0.3931186488444532\n",
      "AUROC: 0.8486138128633915\n",
      "AUPR+AUROC: 1.2417324617078447\n",
      "-----------\n",
      "run time:  30.726051330566406\n"
     ]
    }
   ],
   "source": [
    "method = \"SVM\"\n",
    "validation = \"cv\"\n",
    "hyperparsOut[validation][method] = {}\n",
    "results[validation][method] = {}\n",
    "str = \"pathway\"\n",
    "print(f\"using feature {str}\")\n",
    "hyperparList = loadHyperpar(*all_hyperparlist[method],method_option=method)\n",
    "t1 = time.time()\n",
    "results[validation][method][str], hyperparsOut[validation][method][str] = evaluation(Y=SEs[\"SIDER\"], X=features_dict[str], method_option=method,tuning_metrice=metrice,hyperparList=hyperparList,hyperparfixed=hyperpars[validation][method][str],Validation=validation,n_jobs=1)\n",
    "t2 = time.time()\n",
    "print(\"run time: \", t2 - t1)"
   ]
  },
  {
   "cell_type": "code",
   "execution_count": 18,
   "metadata": {},
   "outputs": [
    {
     "name": "stdout",
     "output_type": "stream",
     "text": [
      "using feature pathway\n",
      "The RF requires hyperparameter k\n",
      "---------- cv start ----------\n",
      "--- tuning end ---\n",
      "target size: 180\n",
      "------ best hyper pars:  (15,) ------\n",
      "RF starts:\n",
      "RF ends:\n",
      "-----------\n",
      "AUPRperdrug: 0.47212634204237136\n",
      "AUROCperdrug: 0.8466606098670126\n",
      "AUPR+AUROCperdrug: 1.318786951909384\n",
      "AUPR: 0.39716534932872694\n",
      "AUROC: 0.8243061294982998\n",
      "AUPR+AUROC: 1.2214714788270267\n",
      "-----------\n",
      "run time:  3.716900110244751\n"
     ]
    }
   ],
   "source": [
    "method = \"RF\"\n",
    "validation = \"cv\"\n",
    "hyperparsOut[validation][method] = {}\n",
    "results[validation][method] = {}\n",
    "str = \"pathway\"\n",
    "print(f\"using feature {str}\")\n",
    "hyperparList = loadHyperpar(*all_hyperparlist[method],method_option=method)\n",
    "t1 = time.time()\n",
    "results[validation][method][str], hyperparsOut[validation][method][str] = evaluation(Y=SEs[\"SIDER\"], X=features_dict[str], method_option=method,tuning_metrice=metrice,hyperparList=hyperparList,hyperparfixed=hyperpars[validation][method][str],Validation=validation,n_jobs=1)\n",
    "t2 = time.time()\n",
    "print(\"run time: \", t2 - t1)"
   ]
  },
  {
   "cell_type": "code",
   "execution_count": 19,
   "metadata": {},
   "outputs": [
    {
     "name": "stdout",
     "output_type": "stream",
     "text": [
      "using feature pathway\n",
      "The BRF requires hyperparameter k\n",
      "---------- cv start ----------\n",
      "--- tuning end ---\n",
      "target size: 180\n",
      "------ best hyper pars:  (15,) ------\n",
      "BRF starts:\n",
      "BRF ends:\n",
      "-----------\n",
      "AUPRperdrug: 0.4721516685314481\n",
      "AUROCperdrug: 0.8466616909223009\n",
      "AUPR+AUROCperdrug: 1.318813359453749\n",
      "AUPR: 0.39715953141505655\n",
      "AUROC: 0.824306452974596\n",
      "AUPR+AUROC: 1.2214659843896527\n",
      "-----------\n",
      "run time:  105.56408190727234\n"
     ]
    }
   ],
   "source": [
    "method = \"BRF\"\n",
    "validation = \"cv\"\n",
    "hyperparsOut[validation][method] = {}\n",
    "results[validation][method] = {}\n",
    "str = \"pathway\"\n",
    "print(f\"using feature {str}\")\n",
    "hyperparList = loadHyperpar(*all_hyperparlist[method],method_option=method)\n",
    "t1 = time.time()\n",
    "results[validation][method][str], hyperparsOut[validation][method][str] = evaluation(Y=SEs[\"SIDER\"], X=features_dict[str], method_option=method,tuning_metrice=metrice,hyperparList=hyperparList,hyperparfixed=hyperpars[validation][method][str],Validation=validation,n_jobs=1)\n",
    "t2 = time.time()\n",
    "print(\"run time: \", t2 - t1)"
   ]
  }
 ],
 "metadata": {
  "kernelspec": {
   "display_name": "tf-2",
   "language": "python",
   "name": "python3"
  },
  "language_info": {
   "codemirror_mode": {
    "name": "ipython",
    "version": 3
   },
   "file_extension": ".py",
   "mimetype": "text/x-python",
   "name": "python",
   "nbconvert_exporter": "python",
   "pygments_lexer": "ipython3",
   "version": "3.9.5"
  }
 },
 "nbformat": 4,
 "nbformat_minor": 2
}
