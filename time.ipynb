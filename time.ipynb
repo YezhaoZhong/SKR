{
 "cells": [
  {
   "cell_type": "markdown",
   "metadata": {},
   "source": [
    "# Runing Time of Models"
   ]
  },
  {
   "cell_type": "markdown",
   "metadata": {},
   "source": [
    "Import necessary modules: "
   ]
  },
  {
   "cell_type": "code",
   "execution_count": 1,
   "metadata": {},
   "outputs": [],
   "source": [
    "import numpy as np\n",
    "import pandas as pd\n",
    "from ADRprofilePrediction import Pairs2Mat, evaluation\n",
    "from Models import loadHyperpar\n",
    "import time\n",
    "import json"
   ]
  },
  {
   "cell_type": "code",
   "execution_count": 2,
   "metadata": {},
   "outputs": [
    {
     "name": "stdout",
     "output_type": "stream",
     "text": [
      "0.24.2\n"
     ]
    }
   ],
   "source": [
    "import sklearn\n",
    "print(sklearn.__version__)"
   ]
  },
  {
   "cell_type": "markdown",
   "metadata": {},
   "source": [
    "## Load data"
   ]
  },
  {
   "cell_type": "markdown",
   "metadata": {},
   "source": [
    "Load the feature data in to a dictionary. We used the pathway feature as an example to study the runing time of models."
   ]
  },
  {
   "cell_type": "code",
   "execution_count": 3,
   "metadata": {},
   "outputs": [],
   "source": [
    "features_dict = {\n",
    "    \"pathway\":Pairs2Mat(path=\"data/drug_pathway.tsv\",colname1=\"0\",colname2=\"1\")\n",
    "}"
   ]
  },
  {
   "cell_type": "markdown",
   "metadata": {},
   "source": [
    "Load drug-ADR data from SIDER. ."
   ]
  },
  {
   "cell_type": "code",
   "execution_count": 4,
   "metadata": {},
   "outputs": [],
   "source": [
    "filter = \"all\"\n",
    "SEs = {}\n",
    "if filter == \"all\":\n",
    "    SIDER = Pairs2Mat(path=\"data/drug_se.tsv\",colname1=\"1_x\",colname2=\"5\")\n",
    "    column_sums = np.sum(SIDER, axis=0)\n",
    "    SEs[\"SIDER\"] = SIDER.loc[:, (column_sums >= 5)]"
   ]
  },
  {
   "cell_type": "markdown",
   "metadata": {},
   "source": [
    "## Set variables"
   ]
  },
  {
   "cell_type": "markdown",
   "metadata": {},
   "source": [
    "We used SIDER as ADR data."
   ]
  },
  {
   "cell_type": "code",
   "execution_count": 7,
   "metadata": {},
   "outputs": [],
   "source": [
    "SEs_name = \"SIDER\"\n",
    "metrice = \"AUPR\""
   ]
  },
  {
   "cell_type": "markdown",
   "metadata": {},
   "source": [
    "Hyperparameters were tuned for hold-out set. We only run the models once on the hold-out set to check the required time."
   ]
  },
  {
   "cell_type": "code",
   "execution_count": 22,
   "metadata": {},
   "outputs": [],
   "source": [
    "# Open and read the JSON file\n",
    "with open(f'results/hyperpars_{SEs_name}.xml', 'r') as xml_file:\n",
    "    hyperpars = json.load(xml_file)"
   ]
  },
  {
   "cell_type": "markdown",
   "metadata": {},
   "source": [
    "## Check Running time"
   ]
  },
  {
   "cell_type": "code",
   "execution_count": 11,
   "metadata": {},
   "outputs": [
    {
     "name": "stdout",
     "output_type": "stream",
     "text": [
      "using feature pathway\n",
      "The SKR requires hyperparameter lambda, c, sigma_X, sigma_Y\n",
      "---------- cv start ----------\n",
      "--- tuning end ---\n",
      "target size: 180\n",
      "------ best hyper pars:  (100, 0.9, 10, 100) ------\n",
      "SKR starts:\n",
      "SKR ends:\n",
      "-----------\n",
      "AUPRperdrug: 0.45871664748046503\n",
      "AUROCperdrug: 0.8856320744088235\n",
      "AUPR+AUROCperdrug: 1.3443487218892884\n",
      "AUPR: 0.39886504381546584\n",
      "AUROC: 0.8583742465579316\n",
      "AUPR+AUROC: 1.2572392903733975\n",
      "-----------\n",
      "run time:  2.7299623489379883\n"
     ]
    }
   ],
   "source": [
    "method = \"SKR\"\n",
    "validation = \"cv\"\n",
    "str = \"pathway\"\n",
    "print(f\"using feature {str}\")\n",
    "t1 = time.time()\n",
    "_, _ = evaluation(Y=SEs[\"SIDER\"], X=features_dict[str], method_option=method,tuning_metrice=metrice,hyperparfixed=hyperpars[validation][method][str],Validation=validation,n_jobs=1)\n",
    "t2 = time.time()\n",
    "print(\"run time: \", t2 - t1)"
   ]
  },
  {
   "cell_type": "code",
   "execution_count": 23,
   "metadata": {},
   "outputs": [
    {
     "name": "stdout",
     "output_type": "stream",
     "text": [
      "using feature pathway\n",
      "The VKR requires hyperparameter lambda, sigma_X, k\n",
      "---------- cv start ----------\n",
      "--- tuning end ---\n",
      "target size: 180\n",
      "------ best hyper pars:  (100, 100, 15) ------\n",
      "VKR starts:\n",
      "VKR ends:\n",
      "-----------\n",
      "AUPRperdrug: 0.4588762327062619\n",
      "AUROCperdrug: 0.8844320863388482\n",
      "AUPR+AUROCperdrug: 1.34330831904511\n",
      "AUPR: 0.3991979958326599\n",
      "AUROC: 0.8581389517046799\n",
      "AUPR+AUROC: 1.2573369475373397\n",
      "-----------\n",
      "run time:  6.085549831390381\n"
     ]
    }
   ],
   "source": [
    "method = \"VKR\"\n",
    "validation = \"cv\"\n",
    "str = \"pathway\"\n",
    "print(f\"using feature {str}\")\n",
    "t1 = time.time()\n",
    "_, _ = evaluation(Y=SEs[\"SIDER\"], X=features_dict[str], method_option=method,tuning_metrice=metrice,hyperparfixed=hyperpars[validation][method][str],Validation=validation,n_jobs=1)\n",
    "t2 = time.time()\n",
    "print(\"run time: \", t2 - t1)"
   ]
  },
  {
   "cell_type": "code",
   "execution_count": 12,
   "metadata": {},
   "outputs": [
    {
     "name": "stdout",
     "output_type": "stream",
     "text": [
      "using feature pathway\n",
      "The KRR requires hyperparameter lambda, sigma_X\n",
      "---------- cv start ----------\n",
      "--- tuning end ---\n",
      "target size: 180\n",
      "------ best hyper pars:  (100, 100) ------\n",
      "KRR starts:\n",
      "KRR ends:\n",
      "-----------\n",
      "AUPRperdrug: 0.4586145494614498\n",
      "AUROCperdrug: 0.8851348674276223\n",
      "AUPR+AUROCperdrug: 1.343749416889072\n",
      "AUPR: 0.39914209124262745\n",
      "AUROC: 0.8583574574129526\n",
      "AUPR+AUROC: 1.25749954865558\n",
      "-----------\n",
      "run time:  1.923788070678711\n"
     ]
    }
   ],
   "source": [
    "method = \"KRR\"\n",
    "validation = \"cv\"\n",
    "str = \"pathway\"\n",
    "print(f\"using feature {str}\")\n",
    "t1 = time.time()\n",
    "_, _ = evaluation(Y=SEs[\"SIDER\"], X=features_dict[str], method_option=method,tuning_metrice=metrice,hyperparfixed=hyperpars[validation][method][str],Validation=validation,n_jobs=1)\n",
    "t2 = time.time()\n",
    "print(\"run time: \", t2 - t1)"
   ]
  },
  {
   "cell_type": "code",
   "execution_count": 17,
   "metadata": {},
   "outputs": [
    {
     "name": "stdout",
     "output_type": "stream",
     "text": [
      "using feature pathway\n",
      "The SVM requires hyperparameter c, gamma\n",
      "---------- cv start ----------\n",
      "--- tuning end ---\n",
      "target size: 180\n",
      "------ best hyper pars:  (10, 10) ------\n",
      "SVM starts:\n",
      "SVM ends:\n",
      "-----------\n",
      "AUPRperdrug: 0.4515203938299791\n",
      "AUROCperdrug: 0.8780329215278591\n",
      "AUPR+AUROCperdrug: 1.3295533153578383\n",
      "AUPR: 0.3931186488444532\n",
      "AUROC: 0.8486138128633915\n",
      "AUPR+AUROC: 1.2417324617078447\n",
      "-----------\n",
      "run time:  30.726051330566406\n"
     ]
    }
   ],
   "source": [
    "method = \"SVM\"\n",
    "validation = \"cv\"\n",
    "str = \"pathway\"\n",
    "print(f\"using feature {str}\")\n",
    "t1 = time.time()\n",
    "_, _ = evaluation(Y=SEs[\"SIDER\"], X=features_dict[str], method_option=method,tuning_metrice=metrice,hyperparfixed=hyperpars[validation][method][str],Validation=validation,n_jobs=1)\n",
    "t2 = time.time()\n",
    "print(\"run time: \", t2 - t1)"
   ]
  },
  {
   "cell_type": "code",
   "execution_count": 18,
   "metadata": {},
   "outputs": [
    {
     "name": "stdout",
     "output_type": "stream",
     "text": [
      "using feature pathway\n",
      "The RF requires hyperparameter k\n",
      "---------- cv start ----------\n",
      "--- tuning end ---\n",
      "target size: 180\n",
      "------ best hyper pars:  (15,) ------\n",
      "RF starts:\n",
      "RF ends:\n",
      "-----------\n",
      "AUPRperdrug: 0.47212634204237136\n",
      "AUROCperdrug: 0.8466606098670126\n",
      "AUPR+AUROCperdrug: 1.318786951909384\n",
      "AUPR: 0.39716534932872694\n",
      "AUROC: 0.8243061294982998\n",
      "AUPR+AUROC: 1.2214714788270267\n",
      "-----------\n",
      "run time:  3.716900110244751\n"
     ]
    }
   ],
   "source": [
    "method = \"RF\"\n",
    "validation = \"cv\"\n",
    "str = \"pathway\"\n",
    "print(f\"using feature {str}\")\n",
    "t1 = time.time()\n",
    "_, _ = evaluation(Y=SEs[\"SIDER\"], X=features_dict[str], method_option=method,tuning_metrice=metrice,hyperparfixed=hyperpars[validation][method][str],Validation=validation,n_jobs=1)\n",
    "t2 = time.time()\n",
    "print(\"run time: \", t2 - t1)"
   ]
  },
  {
   "cell_type": "code",
   "execution_count": 19,
   "metadata": {},
   "outputs": [
    {
     "name": "stdout",
     "output_type": "stream",
     "text": [
      "using feature pathway\n",
      "The BRF requires hyperparameter k\n",
      "---------- cv start ----------\n",
      "--- tuning end ---\n",
      "target size: 180\n",
      "------ best hyper pars:  (15,) ------\n",
      "BRF starts:\n",
      "BRF ends:\n",
      "-----------\n",
      "AUPRperdrug: 0.4721516685314481\n",
      "AUROCperdrug: 0.8466616909223009\n",
      "AUPR+AUROCperdrug: 1.318813359453749\n",
      "AUPR: 0.39715953141505655\n",
      "AUROC: 0.824306452974596\n",
      "AUPR+AUROC: 1.2214659843896527\n",
      "-----------\n",
      "run time:  105.56408190727234\n"
     ]
    }
   ],
   "source": [
    "method = \"BRF\"\n",
    "validation = \"cv\"\n",
    "str = \"pathway\"\n",
    "print(f\"using feature {str}\")\n",
    "t1 = time.time()\n",
    "_, _ = evaluation(Y=SEs[\"SIDER\"], X=features_dict[str], method_option=method,tuning_metrice=metrice,hyperparfixed=hyperpars[validation][method][str],Validation=validation,n_jobs=1)\n",
    "t2 = time.time()\n",
    "print(\"run time: \", t2 - t1)"
   ]
  }
 ],
 "metadata": {
  "kernelspec": {
   "display_name": "tf-2",
   "language": "python",
   "name": "python3"
  },
  "language_info": {
   "codemirror_mode": {
    "name": "ipython",
    "version": 3
   },
   "file_extension": ".py",
   "mimetype": "text/x-python",
   "name": "python",
   "nbconvert_exporter": "python",
   "pygments_lexer": "ipython3",
   "version": "3.9.5"
  }
 },
 "nbformat": 4,
 "nbformat_minor": 2
}
